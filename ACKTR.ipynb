{
  "nbformat": 4,
  "nbformat_minor": 0,
  "metadata": {
    "colab": {
      "name": "ACKTR.ipynb",
      "provenance": [],
      "collapsed_sections": [
        "otlEhb9I0zQA"
      ],
      "toc_visible": true,
      "mount_file_id": "1PuBl3O5M-oWs23bbz4zux_Dcdv3dIvxk",
      "authorship_tag": "ABX9TyOzx6LGpAaIzmpt2CzIEq7F"
    },
    "kernelspec": {
      "display_name": "Python 3",
      "name": "python3"
    }
  },
  "cells": [
    {
      "cell_type": "markdown",
      "metadata": {
        "id": "zT_UFK5Z1a-J"
      },
      "source": [
        "#Installation"
      ]
    },
    {
      "cell_type": "code",
      "metadata": {
        "id": "xtAcwBgrYUvX"
      },
      "source": [
        "%tensorflow_version 1.x"
      ],
      "execution_count": null,
      "outputs": []
    },
    {
      "cell_type": "code",
      "metadata": {
        "id": "cW4mODzw0G5r"
      },
      "source": [
        "!pip install stable-baselines[mpi]==2.10.1\r\n",
        "!pip install gym box2d box2d-kengz\r\n",
        "!apt-get install xvfb ffmpeg"
      ],
      "execution_count": null,
      "outputs": []
    },
    {
      "cell_type": "markdown",
      "metadata": {
        "id": "vl0CUjVM1pCt"
      },
      "source": [
        "#Imports"
      ]
    },
    {
      "cell_type": "code",
      "metadata": {
        "id": "HN4eDQxC1urG"
      },
      "source": [
        "import gym\r\n",
        "import stable_baselines\r\n",
        "\r\n",
        "from stable_baselines import ACKTR # PPO2 SAC TD3 ACKTR\r\n",
        "from stable_baselines.common.policies import MlpPolicy\r\n",
        "from stable_baselines.common.evaluation import evaluate_policy\r\n",
        "from stable_baselines.common.vec_env import VecVideoRecorder, DummyVecEnv\r\n",
        "from stable_baselines.bench import Monitor"
      ],
      "execution_count": null,
      "outputs": []
    },
    {
      "cell_type": "markdown",
      "metadata": {
        "id": "i3h5Xe3JZ6UE"
      },
      "source": [
        "#Hyperparameters"
      ]
    },
    {
      "cell_type": "code",
      "metadata": {
        "id": "iV68ddfEZ8mA"
      },
      "source": [
        "env_id = 'BipedalWalker-v3'\r\n",
        "# env_id = 'BipedalWalkerHardcore-v3'\r\n",
        "model_id = 'ACKTR'\r\n",
        "video_folder = 'drive/MyDrive/result/videos'\r\n",
        "video_length = 5000\r\n",
        "log_path = 'drive/MyDrive/result/tensorboard/'\r\n",
        "\r\n",
        "env = gym.make(env_id)\r\n",
        "env = Monitor(env, filename=None)\r\n",
        "env = DummyVecEnv([lambda: env])\r\n",
        "obs = env.reset()"
      ],
      "execution_count": null,
      "outputs": []
    },
    {
      "cell_type": "code",
      "metadata": {
        "id": "P0DQphfj3znK"
      },
      "source": [
        "model = ACKTR(MlpPolicy, env, verbose=1, ent_coef=0.0, lr_schedule='constant', learning_rate=0.298, n_steps=32, gamma=0.98, vf_coef=0.38, tensorboard_log=log_path)\r\n",
        "# For BipedalWalkerHardcore-v3\r\n",
        "# model = ACKTR(MlpPolicy, env, verbose=1, ent_coef=0.000125, lr_schedule='constant', learning_rate=0.0675, n_steps=16, gamma=0.9999, vf_coef=0.51, tensorboard_log=log_path)"
      ],
      "execution_count": null,
      "outputs": []
    },
    {
      "cell_type": "markdown",
      "metadata": {
        "id": "RK-vjEQR7z7l"
      },
      "source": [
        "#Visualization"
      ]
    },
    {
      "cell_type": "code",
      "metadata": {
        "id": "iEMhTIix718M"
      },
      "source": [
        "import os\r\n",
        "import base64\r\n",
        "import IPython\r\n",
        "from pathlib import Path\r\n",
        "from IPython import display as ipythondisplay\r\n",
        "\r\n",
        "os.system(\"Xvfb :1 -screen 0 1024x768x24 &\")\r\n",
        "os.environ['DISPLAY'] = ':1'\r\n",
        "\r\n",
        "def record_video(env_id, model, video_length, prefix, video_folder):\r\n",
        "  eval_env = DummyVecEnv([lambda: gym.make(env_id)])\r\n",
        "  eval_env = VecVideoRecorder(eval_env, video_folder=video_folder,\r\n",
        "                              record_video_trigger=lambda step: step == 0, video_length=video_length,\r\n",
        "                              name_prefix=prefix)\r\n",
        "\r\n",
        "  obs = eval_env.reset()\r\n",
        "  for _ in range(video_length):\r\n",
        "    action, _ = model.predict(obs)\r\n",
        "    obs, _, _, _ = eval_env.step(action)\r\n",
        "\r\n",
        "  eval_env.close()\r\n",
        "\r\n",
        "\r\n",
        "def show_videos(video_path, prefix):\r\n",
        "  html = []\r\n",
        "  for mp4 in Path(video_path).glob(\"{}*.mp4\".format(prefix)):\r\n",
        "      video_b64 = base64.b64encode(mp4.read_bytes())\r\n",
        "      html.append('''<video alt=\"{}\" autoplay \r\n",
        "                    loop controls style=\"height: 400px;\">\r\n",
        "                    <source src=\"data:video/mp4;base64,{}\" type=\"video/mp4\" />\r\n",
        "                </video>'''.format(mp4, video_b64.decode('ascii')))\r\n",
        "  ipythondisplay.display(ipythondisplay.HTML(data=\"<br>\".join(html)))"
      ],
      "execution_count": null,
      "outputs": []
    },
    {
      "cell_type": "markdown",
      "metadata": {
        "id": "n3K2bwDT2gM1"
      },
      "source": [
        "#Train"
      ]
    },
    {
      "cell_type": "code",
      "metadata": {
        "id": "Jq3jFgt7obUk"
      },
      "source": [
        "def run(timesteps): \r\n",
        "\r\n",
        "  model.learn(timesteps)\r\n",
        "  model.save('drive/MyDrive/result/' + model_id + str(timesteps))\r\n",
        "\r\n",
        "  mean_reward, std_reward = evaluate_policy(model, env, n_eval_episodes=100)\r\n",
        "  print(f\"mean_reward:{mean_reward:.2f} +/- {std_reward:.2f}\")\r\n",
        "\r\n",
        "  record_video(env_id, model, video_length=video_length, prefix=model_id, video_folder=video_folder)\r\n",
        "  show_videos(video_path=video_folder, prefix=timesteps)"
      ],
      "execution_count": null,
      "outputs": []
    },
    {
      "cell_type": "code",
      "metadata": {
        "id": "H1lA3sETaoMw"
      },
      "source": [
        "%load_ext tensorboard\r\n",
        "%tensorboard --logdir {log_path}"
      ],
      "execution_count": null,
      "outputs": []
    },
    {
      "cell_type": "code",
      "metadata": {
        "id": "VDv6tZmh2saz"
      },
      "source": [
        "run(timesteps = 2000000) # 5e6"
      ],
      "execution_count": null,
      "outputs": []
    },
    {
      "cell_type": "markdown",
      "metadata": {
        "id": "otlEhb9I0zQA"
      },
      "source": [
        "#References\r\n",
        "1. https://github.com/hill-a/stable-baselines\r\n",
        "2. https://stable-baselines.readthedocs.io/en/master/index.html\r\n",
        "3. https://github.com/araffin/rl-baselines-zoo/tree/master/hyperparams\r\n",
        "4. https://colab.research.google.com/drive/1kl7124cI89-yn-Stio8GiLpJV0jec6Kt\r\n"
      ]
    }
  ]
}